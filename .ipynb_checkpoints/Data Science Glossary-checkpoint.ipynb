{
 "cells": [
  {
   "cell_type": "markdown",
   "metadata": {},
   "source": [
    "# Data Science Glossary\n",
    "\n",
    "## Statistics\n",
    "\n",
    "### Foundation\n",
    "\n",
    "\n",
    "* Chance - proportion of times event should happen over repeated trials\n",
    "* P(A) - proportion of times event A happens in n trials\n",
    "* Law of Large Numbers - as n, the number of trials, grows larger and approaches infinity,  P(A) approaches \n",
    "* Outcome space - all possible results of a trial, P(outcome space) = 1  for any trial (i.e. the probability of a quarter flipping either heads or tails up is 100%).  The probability of an impossible result is 0.\n",
    "* Complement of an event A ($A_c$ or $\\overline{\\mbox{A}}$, depending on notation) - all events not including A, with total probability of $1 - P(A)$\n",
    "* Union of events A and B ($A \\cup B$) - any event that includes event A, event B, or both A and B.\n",
    "* Intersection of events A and B ($A \\cap B$) - any event that includes both A and B\n",
    "* Subset: An event A is a subset of event B if the A is within B\n",
    "* Partition - an event can be partitioned into non-intersecting sub-events (event A partitioned into sub-events $A_1, A_2...A_n)$.  If the probability of the intersection of sub-events is 0 (no sub-events overlap) then $A_1, A_2...A_n)$ form a partition.\n",
    "    * $A_1, A_2, A_3... A_n$ form a partition of $A$ if $A = A_1 \\cup A_2 \\cup A_3 ...\\cup A_n$ and $A_i \\cap A_j$ for all $i \\neq j, i,j \\leq n$ \n",
    "* Rules of Probability:\n",
    "    * Probability of any event within the outcome space is at least 0.  $(P(A) ≥ 0)$\n",
    "    * If the sub-events $A_1, A_2...A_n$ form a partition of the event $A$, then $P(A) = P(A_1) + P(A_2) + ... + P(A_n)$\n",
    "    * Probability of the outcome space is 1; the sum of the probability of all possible and impossible events within the outcome space is 1.\n",
    "* Probability Space - defines the universe of a statistical model using 3 parts:\n",
    "    * Sample space -  the collection of all possible outcomes\n",
    "    * Event space - the collection of all possible sets of possible outcomes.\n",
    "    * Probability measure - a function that maps each event to a probability within the $[0,1]$ interval\n",
    "* Conditional Probability - reframing the probability of an event A given information about the occurrence of some event B\n",
    "* Random Variable - \n",
    "* Distribution - a function that divides the probability of outcome space into subsets in such a way that satisfies the rules of probability. \n",
    "    * For example, the distribution of a coin toss is $P(Heads) = 0.5, P(Tails = 0.5)$.\n",
    "    \n",
    "* Independence\n",
    "* \n",
    "\n",
    "### Distributions\n",
    "\n",
    "#### Discrete\n",
    "\n",
    "* Uniform\n",
    "* Binomial/Multinomial\n",
    "\n",
    "#### Continuous\n",
    "\n",
    "* Normal\n",
    "* Uniform\n",
    "* Exponential\n",
    "\n",
    "## Hypothesis Testing\n",
    "\n",
    "## Machine Learning "
   ]
  },
  {
   "cell_type": "code",
   "execution_count": null,
   "metadata": {},
   "outputs": [],
   "source": []
  }
 ],
 "metadata": {
  "kernelspec": {
   "display_name": "Python 3",
   "language": "python",
   "name": "python3"
  },
  "language_info": {
   "codemirror_mode": {
    "name": "ipython",
    "version": 3
   },
   "file_extension": ".py",
   "mimetype": "text/x-python",
   "name": "python",
   "nbconvert_exporter": "python",
   "pygments_lexer": "ipython3",
   "version": "3.7.1"
  }
 },
 "nbformat": 4,
 "nbformat_minor": 4
}
